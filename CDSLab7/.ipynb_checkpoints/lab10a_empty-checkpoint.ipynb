{
 "cells": [
  {
   "cell_type": "markdown",
   "metadata": {
    "colab_type": "text",
    "id": "KDMeojC4XA9R"
   },
   "source": [
    "## Training a word2vec model from scratch\n",
    "\n",
    "-- Prof. Dorien Herremans\n",
    "\n",
    "We will start by training a word2vec model from scratch using the gensim library. You will need to ensure that you have gensim installed, and a file decompressor to load our dataset. \n",
    "\n",
    "Note: these models may take a while to train. Be sure to switch the runtime of  Google Colab to us a TPU or GPU hardware accellerator (in the menu at the top). \n",
    "\n",
    "Let's start by installing some libraries that we will use:"
   ]
  },
  {
   "cell_type": "code",
   "execution_count": 1,
   "metadata": {
    "colab": {
     "base_uri": "https://localhost:8080/",
     "height": 343
    },
    "colab_type": "code",
    "id": "mDkvVQRXu8rj",
    "outputId": "b7bf3bd2-3557-4895-d8aa-8e63a68801f7"
   },
   "outputs": [
    {
     "name": "stdout",
     "output_type": "stream",
     "text": [
      "Requirement already satisfied: gensim in /anaconda3/lib/python3.6/site-packages (3.8.1)\n",
      "Requirement already satisfied: six>=1.5.0 in /anaconda3/lib/python3.6/site-packages (from gensim) (1.11.0)\n",
      "Requirement already satisfied: smart-open>=1.8.1 in /anaconda3/lib/python3.6/site-packages (from gensim) (1.9.0)\n",
      "Requirement already satisfied: numpy>=1.11.3 in /anaconda3/lib/python3.6/site-packages (from gensim) (1.17.3)\n",
      "Requirement already satisfied: scipy>=0.18.1 in /anaconda3/lib/python3.6/site-packages (from gensim) (1.0.0)\n",
      "Requirement already satisfied: boto3 in /anaconda3/lib/python3.6/site-packages (from smart-open>=1.8.1->gensim) (1.10.17)\n",
      "Requirement already satisfied: requests in /anaconda3/lib/python3.6/site-packages (from smart-open>=1.8.1->gensim) (2.18.4)\n",
      "Requirement already satisfied: boto>=2.32 in /anaconda3/lib/python3.6/site-packages (from smart-open>=1.8.1->gensim) (2.48.0)\n",
      "Requirement already satisfied: s3transfer<0.3.0,>=0.2.0 in /anaconda3/lib/python3.6/site-packages (from boto3->smart-open>=1.8.1->gensim) (0.2.1)\n",
      "Requirement already satisfied: jmespath<1.0.0,>=0.7.1 in /anaconda3/lib/python3.6/site-packages (from boto3->smart-open>=1.8.1->gensim) (0.9.4)\n",
      "Requirement already satisfied: botocore<1.14.0,>=1.13.17 in /anaconda3/lib/python3.6/site-packages (from boto3->smart-open>=1.8.1->gensim) (1.13.17)\n",
      "Requirement already satisfied: chardet<3.1.0,>=3.0.2 in /anaconda3/lib/python3.6/site-packages (from requests->smart-open>=1.8.1->gensim) (3.0.4)\n",
      "Requirement already satisfied: idna<2.7,>=2.5 in /anaconda3/lib/python3.6/site-packages (from requests->smart-open>=1.8.1->gensim) (2.6)\n",
      "Requirement already satisfied: urllib3<1.23,>=1.21.1 in /anaconda3/lib/python3.6/site-packages (from requests->smart-open>=1.8.1->gensim) (1.22)\n",
      "Requirement already satisfied: certifi>=2017.4.17 in /anaconda3/lib/python3.6/site-packages (from requests->smart-open>=1.8.1->gensim) (2019.9.11)\n",
      "Requirement already satisfied: python-dateutil<2.8.1,>=2.1; python_version >= \"2.7\" in /anaconda3/lib/python3.6/site-packages (from botocore<1.14.0,>=1.13.17->boto3->smart-open>=1.8.1->gensim) (2.6.1)\n",
      "Requirement already satisfied: docutils<0.16,>=0.10 in /anaconda3/lib/python3.6/site-packages (from botocore<1.14.0,>=1.13.17->boto3->smart-open>=1.8.1->gensim) (0.14)\n",
      "Requirement already satisfied: wget in /anaconda3/lib/python3.6/site-packages (3.2)\n"
     ]
    }
   ],
   "source": [
    "!pip install gensim\n",
    "!pip install wget"
   ]
  },
  {
   "cell_type": "markdown",
   "metadata": {
    "colab_type": "text",
    "id": "0qiQjAboxcBN"
   },
   "source": [
    "Now we can import these libraries:"
   ]
  },
  {
   "cell_type": "code",
   "execution_count": 2,
   "metadata": {
    "colab": {},
    "colab_type": "code",
    "id": "f5wZmGH0XHYP"
   },
   "outputs": [],
   "source": [
    "# imports needed \n",
    "import gensim\n",
    "import wget\n"
   ]
  },
  {
   "cell_type": "markdown",
   "metadata": {
    "colab_type": "text",
    "id": "02-XoaTBYuY1"
   },
   "source": [
    "We will train our model using a very small dataset for demonstrative purposes. Note that for a real data science project you should train on a much larger dataset. \n",
    "\n",
    "We will use the complete works of Shakespeare. You can find the file at https://dorienherremans.com/drop/CDS/CNNs/shakespeare.txt"
   ]
  },
  {
   "cell_type": "code",
   "execution_count": 3,
   "metadata": {
    "colab": {},
    "colab_type": "code",
    "id": "1Tg9GZzYt4nf"
   },
   "outputs": [],
   "source": [
    "# download the dataset\n",
    "# filename = wget.download('https:/dorienherremans.com/drop/CDS/CNNs/shakespeare.txt')\n"
   ]
  },
  {
   "cell_type": "markdown",
   "metadata": {
    "colab_type": "text",
    "id": "nKHwTYP3YpJZ"
   },
   "source": [
    "Let's read the input file and convert each line into a list of words (tokenizing). Do do this, we create a function read_input which is called in the penultimate line below: "
   ]
  },
  {
   "cell_type": "code",
   "execution_count": 4,
   "metadata": {
    "colab": {},
    "colab_type": "code",
    "id": "F8J2jQ1JYpJd"
   },
   "outputs": [
    {
     "name": "stdout",
     "output_type": "stream",
     "text": [
      "reading file\n",
      "done reading\n"
     ]
    }
   ],
   "source": [
    "def read_input(input_file):\n",
    "    print(\"reading file\")\n",
    "    with open(input_file,'r') as f:\n",
    "        lines = f.readlines()\n",
    "        for line in lines:\n",
    "            ## this does all the preprocessing\n",
    "            yield gensim.utils.simple_preprocess(line)\n",
    "            \n",
    "            \n",
    "data_file = 'shakespeare.txt'\n",
    "documents = list(read_input(data_file))\n",
    "print('done reading')\n",
    "# print(documents)\n"
   ]
  },
  {
   "cell_type": "markdown",
   "metadata": {
    "colab_type": "text",
    "id": "ZnDX2S9eX1Ub"
   },
   "source": [
    "Now let's train the word2vec model using our document variable (which is a list of word lists). Note that you can specify a number of hyperparameters below:\n",
    "* min_count removes all words that occur less then min_count\n",
    "* window: window size in the skip-gram\n",
    "* workers: how many threads to use\n",
    "* size: number of dimension of your new word embedding vector (typically 100-200). Smaller datasets require a smaller number\n",
    "\n"
   ]
  },
  {
   "cell_type": "code",
   "execution_count": 5,
   "metadata": {
    "colab": {},
    "colab_type": "code",
    "id": "VJWmrzCRZm9Z"
   },
   "outputs": [
    {
     "data": {
      "text/plain": [
       "(6703021, 8675160)"
      ]
     },
     "execution_count": 5,
     "metadata": {},
     "output_type": "execute_result"
    }
   ],
   "source": [
    "model = gensim.models.Word2Vec(documents,size = 150,window=5,min_count=2,workers=4)\n",
    "model.train(documents,total_examples=(len(documents)),epochs=10)\n"
   ]
  },
  {
   "cell_type": "markdown",
   "metadata": {
    "colab_type": "text",
    "id": "0hKwagKCYpJ7"
   },
   "source": [
    "That's it! Now you've trained the model! \n",
    "\n",
    "Now let's explore some properties of our new word space. You can get the words most close (read:  most similar) to a given word. Remember, the only texts the model has seen is shakespeare!"
   ]
  },
  {
   "cell_type": "code",
   "execution_count": 6,
   "metadata": {
    "colab": {},
    "colab_type": "code",
    "id": "MTGeHhiaZzIU"
   },
   "outputs": [
    {
     "data": {
      "text/plain": [
       "[('prince', 0.6715062856674194),\n",
       " ('warwick', 0.5610876679420471),\n",
       " ('duke', 0.559615433216095),\n",
       " ('bolingbroke', 0.5532126426696777),\n",
       " ('sixth', 0.5477477312088013),\n",
       " ('plantagenets', 0.5363777279853821),\n",
       " ('fifth', 0.5221357941627502),\n",
       " ('bastard', 0.510574460029602),\n",
       " ('princess', 0.508429765701294),\n",
       " ('emperor', 0.504264771938324)]"
      ]
     },
     "execution_count": 6,
     "metadata": {},
     "output_type": "execute_result"
    }
   ],
   "source": [
    "w1 = \"king\"\n",
    "model.wv.most_similar(positive=w1)\n"
   ]
  },
  {
   "cell_type": "code",
   "execution_count": 7,
   "metadata": {
    "colab": {},
    "colab_type": "code",
    "id": "GuJhHUOve1km"
   },
   "outputs": [
    {
     "data": {
      "text/plain": [
       "[('laugh', 0.7373952269554138),\n",
       " ('wink', 0.6949462294578552),\n",
       " ('tremble', 0.6937942504882812),\n",
       " ('weep', 0.6921592950820923),\n",
       " ('grieve', 0.6918030977249146),\n",
       " ('shine', 0.6908882260322571)]"
      ]
     },
     "execution_count": 7,
     "metadata": {},
     "output_type": "execute_result"
    }
   ],
   "source": [
    "# look up top 6 words similar to 'smile'\n",
    "w2 = \"smile\"\n",
    "model.wv.most_similar(positive=w2,topn=6)"
   ]
  },
  {
   "cell_type": "code",
   "execution_count": 8,
   "metadata": {
    "colab": {},
    "colab_type": "code",
    "id": "iZu3GGf9e41V"
   },
   "outputs": [
    {
     "data": {
      "text/plain": [
       "[('england', 0.6716287136077881),\n",
       " ('orleans', 0.5749058127403259),\n",
       " ('rome', 0.5721140503883362),\n",
       " ('realm', 0.5715041160583496),\n",
       " ('regent', 0.5639499425888062),\n",
       " ('ireland', 0.558911919593811)]"
      ]
     },
     "execution_count": 8,
     "metadata": {},
     "output_type": "execute_result"
    }
   ],
   "source": [
    "# look up top 6 words similar to 'france'\n",
    "w3 = \"france\"\n",
    "model.wv.most_similar(positive=w3,topn=6)"
   ]
  },
  {
   "cell_type": "code",
   "execution_count": 9,
   "metadata": {
    "colab": {},
    "colab_type": "code",
    "id": "VlDIzGHZe9yN"
   },
   "outputs": [
    {
     "data": {
      "text/plain": [
       "[('head', 0.7859711647033691),\n",
       " ('pocket', 0.7030673623085022),\n",
       " ('throat', 0.695639967918396),\n",
       " ('knife', 0.6936741471290588),\n",
       " ('finger', 0.687627911567688),\n",
       " ('weapon', 0.6840983033180237)]"
      ]
     },
     "execution_count": 9,
     "metadata": {},
     "output_type": "execute_result"
    }
   ],
   "source": [
    "# look up top 6 words similar to 'sword'\n",
    "w4 = \"sword\"\n",
    "model.wv.most_similar(positive=w4,topn=6)"
   ]
  },
  {
   "cell_type": "code",
   "execution_count": 10,
   "metadata": {
    "colab": {},
    "colab_type": "code",
    "id": "wvKKzFHbfAnr"
   },
   "outputs": [
    {
     "data": {
      "text/plain": [
       "[('princess', 0.6505438089370728),\n",
       " ('duke', 0.6102086901664734),\n",
       " ('warwick', 0.5875229239463806),\n",
       " ('emperor', 0.5292003154754639),\n",
       " ('bolingbroke', 0.5265945792198181),\n",
       " ('duchess', 0.523151159286499),\n",
       " ('sister', 0.5173700451850891),\n",
       " ('issue', 0.5150153040885925),\n",
       " ('comfort', 0.5101856589317322),\n",
       " ('cause', 0.504047155380249)]"
      ]
     },
     "execution_count": 10,
     "metadata": {},
     "output_type": "execute_result"
    }
   ],
   "source": [
    "# get everything related to stuff on the royalty and not related to farmer\n",
    "w1 = [\"king\",\"queen\",\"prince\"]\n",
    "w2 = [\"farmer\"]\n",
    "model.wv.most_similar(positive=w1,negative=w2,topn=10)"
   ]
  },
  {
   "cell_type": "markdown",
   "metadata": {
    "colab_type": "text",
    "id": "TkQZ1KkiYpK_"
   },
   "source": [
    "Explore the similarity (e.g. distance) between two words. Does it make sense?"
   ]
  },
  {
   "cell_type": "code",
   "execution_count": 19,
   "metadata": {
    "colab": {},
    "colab_type": "code",
    "id": "3nFv31TxfBMX"
   },
   "outputs": [
    {
     "data": {
      "text/plain": [
       "2.0"
      ]
     },
     "execution_count": 19,
     "metadata": {},
     "output_type": "execute_result"
    }
   ],
   "source": [
    "# similarity between two similar words\n",
    "model.wv.similarity(w1=\"king\",w2=\"farmer\")"
   ]
  },
  {
   "cell_type": "code",
   "execution_count": 12,
   "metadata": {
    "colab": {},
    "colab_type": "code",
    "id": "0PXLoSftYpLO"
   },
   "outputs": [
    {
     "data": {
      "text/plain": [
       "2.0"
      ]
     },
     "execution_count": 12,
     "metadata": {},
     "output_type": "execute_result"
    }
   ],
   "source": [
    "# similarity between two opposing words\n",
    "model.wv.similarity(w1=\"pretty\",w2=\"beautiful\")"
   ]
  },
  {
   "cell_type": "markdown",
   "metadata": {
    "colab_type": "text",
    "id": "hpftKgByYpLT"
   },
   "source": [
    "Try some other combinations :) "
   ]
  },
  {
   "cell_type": "markdown",
   "metadata": {
    "colab_type": "text",
    "id": "Nw7Aabx4YpLU"
   },
   "source": [
    "We can even use it to perform more 'smart' assigments: "
   ]
  },
  {
   "cell_type": "code",
   "execution_count": 13,
   "metadata": {
    "colab": {},
    "colab_type": "code",
    "id": "8eO7ra-efKYq"
   },
   "outputs": [
    {
     "data": {
      "text/plain": [
       "'france'"
      ]
     },
     "execution_count": 13,
     "metadata": {},
     "output_type": "execute_result"
    }
   ],
   "source": [
    "# Which one is the odd one out in this list?\n",
    "model.wv.doesnt_match([\"cat\",\"dog\",\"france\"])"
   ]
  },
  {
   "cell_type": "markdown",
   "metadata": {
    "colab_type": "text",
    "id": "ll3RsRN2YpL3"
   },
   "source": [
    "If you are interested in plotting the words in a multidimensional space, you can actually get the vector coordinates of each word: "
   ]
  },
  {
   "cell_type": "code",
   "execution_count": 14,
   "metadata": {
    "colab": {},
    "colab_type": "code",
    "id": "rEOzUfKcYpL4"
   },
   "outputs": [
    {
     "data": {
      "text/plain": [
       "array([ 0.8965014 ,  0.49574482,  0.72914195, -1.4637413 , -0.29206237,\n",
       "       -0.74579227,  0.14913559, -0.7097325 , -0.6811378 , -0.9632517 ,\n",
       "        0.20497273, -0.33326256,  0.37035343, -1.9450351 , -0.74995506,\n",
       "       -0.86468965, -1.287369  ,  0.4187349 ,  0.32199463, -0.35448802,\n",
       "        0.6642242 , -0.8100496 , -0.07848404,  1.7812759 ,  0.28164583,\n",
       "        1.6951957 ,  0.98861086,  0.6096748 ,  0.03910295,  0.60072637,\n",
       "       -1.1200333 ,  1.9390197 , -0.48674667,  0.167299  , -0.08359651,\n",
       "        1.019275  ,  1.1164262 , -0.22985533,  0.15076543,  0.54280025,\n",
       "       -0.51922446, -0.6893387 , -0.1976417 , -0.7680918 ,  0.5588923 ,\n",
       "        1.3817558 ,  0.97700393, -0.85081846, -0.991451  ,  0.21209735,\n",
       "       -1.1294627 , -1.4211558 , -0.03578101, -0.7559206 ,  0.27851957,\n",
       "        0.1257236 ,  0.45570347, -0.58491254, -0.8892424 , -1.473806  ,\n",
       "       -0.33894953,  0.6789528 , -0.36528176,  0.5309907 ,  1.1633705 ,\n",
       "        0.31497556, -0.02106677, -0.07317487, -0.8612994 ,  1.1845392 ,\n",
       "        0.6696883 , -1.6734613 ,  1.1222414 ,  0.2780738 ,  0.6612244 ,\n",
       "        0.27585265,  0.83603656, -0.53183913, -0.33375835,  1.0868341 ,\n",
       "        0.2689064 , -0.75180006,  0.8284823 , -0.01954706, -0.1378058 ,\n",
       "        1.2689583 , -1.1183923 ,  0.01380996, -0.84011036,  0.63943833,\n",
       "        0.28869954,  0.3993241 , -0.43567473,  1.015679  ,  0.9333646 ,\n",
       "        0.19965887,  0.24673623,  0.74352574,  0.5729343 ,  0.39017835,\n",
       "        0.99291295, -0.31577212,  1.4527119 , -0.09571609,  0.4082341 ,\n",
       "       -0.54608524, -0.32339308, -0.12823953, -0.5772198 , -0.35973212,\n",
       "        0.45588985,  0.42703763, -0.38787505, -0.18967195,  0.5557146 ,\n",
       "       -0.15803875, -0.2648131 , -0.512972  , -0.64495087,  1.1941867 ,\n",
       "       -1.0998359 , -0.12560743,  0.05647365,  0.7525795 , -0.05258276,\n",
       "       -0.23297432,  0.6962276 ,  1.5540864 ,  0.49108052, -0.22426045,\n",
       "        0.53250396,  1.0013063 ,  1.2506332 , -1.3800505 ,  0.02683095,\n",
       "        0.78608876, -1.3168921 , -0.5098403 ,  0.49641612,  0.04491728,\n",
       "        0.85701907, -1.208237  , -0.16950285, -0.64071614,  0.6170682 ,\n",
       "        0.01440505, -0.12284731,  0.37069175,  0.28973088, -1.1643449 ],\n",
       "      dtype=float32)"
      ]
     },
     "execution_count": 14,
     "metadata": {},
     "output_type": "execute_result"
    }
   ],
   "source": [
    "model.wv[\"france\"]"
   ]
  },
  {
   "cell_type": "code",
   "execution_count": 15,
   "metadata": {},
   "outputs": [],
   "source": [
    "model.save('word2vec.model')"
   ]
  },
  {
   "cell_type": "markdown",
   "metadata": {
    "colab_type": "text",
    "id": "1_U5DgEPYpMI"
   },
   "source": [
    "## Bonus: visualising our model in t-SNE: "
   ]
  },
  {
   "cell_type": "code",
   "execution_count": 20,
   "metadata": {
    "colab": {},
    "colab_type": "code",
    "id": "0g6g7s-MYpMK"
   },
   "outputs": [
    {
     "name": "stderr",
     "output_type": "stream",
     "text": [
      "/anaconda3/lib/python3.6/site-packages/ipykernel_launcher.py:16: DeprecationWarning: Call to deprecated `__getitem__` (Method will be removed in 4.0.0, use self.wv.__getitem__() instead).\n",
      "  app.launch_new_instance()\n"
     ]
    },
    {
     "data": {
      "image/png": "[encoded data removed]",
      "text/plain": [
       "<matplotlib.figure.Figure at 0x1a15067208>"
      ]
     },
     "metadata": {},
     "output_type": "display_data"
    }
   ],
   "source": [
    "from sklearn.manifold import TSNE\n",
    "import matplotlib.pyplot as plt\n",
    "%matplotlib inline\n",
    "\n",
    "def tsne_plot(model):\n",
    "    \"Creates and TSNE model and plots it\"\n",
    "\n",
    "    labels = []\n",
    "    tokens = []\n",
    "    \n",
    "    count = 0\n",
    "    for word in model.wv.vocab:\n",
    "        # to speed up the process, let's limit to the first 100 elements\n",
    "        if count < 100:\n",
    "            # TODO get the labels\n",
    "            tokens.append(model[word])\n",
    "            labels.append(word)   \n",
    "            count = count+1\n",
    "            \n",
    "\n",
    "    # set the t-sne values\n",
    "    # TODO fit the t-sne model\n",
    "    tsne_model = TSNE(perplexity=40,n_components=2,init='pca',n_iter=2500,random_state=42)\n",
    "    new_values = tsne_model.fit_transform(tokens)\n",
    "    \n",
    "\n",
    "    x = []\n",
    "    y = []\n",
    "    for value in new_values:\n",
    "        x.append(value[0])\n",
    "        y.append(value[1])\n",
    "        \n",
    "    plt.figure(figsize=(16, 16)) \n",
    "    for i in range(len(x)):\n",
    "        plt.scatter(x[i],y[i])\n",
    "        plt.annotate(labels[i],\n",
    "                     xy=(x[i], y[i]),\n",
    "                     xytext=(5, 2),\n",
    "                     textcoords='offset points',\n",
    "                     ha='right',\n",
    "                     va='bottom')\n",
    "    plt.show()\n",
    "    \n",
    "tsne_plot(model)"
   ]
  },
  {
   "cell_type": "markdown",
   "metadata": {
    "colab_type": "text",
    "id": "UsRf6k4wYpMd"
   },
   "source": [
    "## References\n",
    "\n",
    "* https://radimrehurek.com/gensim/models/word2vec.html\n",
    "* https://towardsdatascience.com/multi-class-text-classification-model-comparison-and-selection-5eb066197568\n",
    "* https://github.com/kavgan/nlp-text-mining-working-examples/tree/master/word2vec\n",
    "* https://medium.com/@mishra.thedeepak/doc2vec-simple-implementation-example-df2afbbfbad5"
   ]
  }
 ],
 "metadata": {
  "accelerator": "TPU",
  "colab": {
   "collapsed_sections": [],
   "name": "lab10a empty",
   "provenance": [],
   "toc_visible": true
  },
  "kernelspec": {
   "display_name": "Python 3",
   "language": "python",
   "name": "python3"
  },
  "language_info": {
   "codemirror_mode": {
    "name": "ipython",
    "version": 3
   },
   "file_extension": ".py",
   "mimetype": "text/x-python",
   "name": "python",
   "nbconvert_exporter": "python",
   "pygments_lexer": "ipython3",
   "version": "3.6.4"
  }
 },
 "nbformat": 4,
 "nbformat_minor": 1
}
