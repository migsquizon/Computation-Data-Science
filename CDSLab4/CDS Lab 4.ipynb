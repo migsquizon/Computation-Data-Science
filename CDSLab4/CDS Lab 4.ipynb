{
 "cells": [
  {
   "cell_type": "code",
   "execution_count": 1,
   "metadata": {},
   "outputs": [
    {
     "data": {
      "text/plain": [
       "'0.22.0'"
      ]
     },
     "execution_count": 1,
     "metadata": {},
     "output_type": "execute_result"
    }
   ],
   "source": [
    "from __future__ import print_function\n",
    "import pandas as pd\n",
    "import numpy as np\n",
    "import matplotlib.pyplot as plt\n",
    "import sys\n",
    "pd.__version__"
   ]
  },
  {
   "cell_type": "code",
   "execution_count": 14,
   "metadata": {},
   "outputs": [],
   "source": [
    "dataframe = pd.read_csv(\"/Users/anthonymunoz/ISTDTerm6/CDS/Computation Data Science/CDSLab4/data.csv\",header=None)\n",
    "dataframe.columns = ['x','y']\n",
    "#print(dataframe.head(5))\n",
    "\n",
    "x = np.array(dataframe['x'],dtype=np.float64)\n",
    "y = np.array(dataframe['y'],dtype=np.float64)\n",
    "\n",
    "ones = np.ones(len(x))\n",
    "new_x = np.column_stack((x, ones))\n"
   ]
  },
  {
   "cell_type": "code",
   "execution_count": 15,
   "metadata": {},
   "outputs": [],
   "source": [
    "def closed_form(input_x,input_y):\n",
    "    A = (1/len(input_x)) * np.dot(np.transpose(input_x),input_x)\n",
    "    b = (1/len(input_x)) * np.dot(np.transpose(input_x),input_y)\n",
    "    return (np.dot(np.linalg.inv(A),b))"
   ]
  },
  {
   "cell_type": "code",
   "execution_count": 16,
   "metadata": {},
   "outputs": [
    {
     "name": "stdout",
     "output_type": "stream",
     "text": [
      "The weight vector is: [1.32243102 7.99102098]\n"
     ]
    },
    {
     "data": {
      "image/png": "[encoded data removed]",
      "text/plain": [
       "<matplotlib.figure.Figure at 0x1195561d0>"
      ]
     },
     "metadata": {},
     "output_type": "display_data"
    }
   ],
   "source": [
    "weight = closed_form(new_x,y)\n",
    "\n",
    "def predict(x, weight):\n",
    "    return np.dot(x, weight)\n",
    "\n",
    "\n",
    "plt.scatter(x,y)\n",
    "plt.plot(x, predict(new_x, weight),color='red')\n",
    "print(\"The weight vector is: {}\".format(weight))"
   ]
  },
  {
   "cell_type": "code",
   "execution_count": 46,
   "metadata": {},
   "outputs": [
    {
     "name": "stdout",
     "output_type": "stream",
     "text": [
      "The Empirical risk: 55.12869173310657\n",
      "The best weight using gradient descent: [1.57289324 0.30783601]\n",
      "The weight vector is: [1.32243102 7.99102098]\n"
     ]
    },
    {
     "data": {
      "image/png": "[encoded data removed]",
      "text/plain": [
       "<matplotlib.figure.Figure at 0x112c5e198>"
      ]
     },
     "metadata": {},
     "output_type": "display_data"
    }
   ],
   "source": [
    "def empirical_risk(x,y,weight):\n",
    "    sum = (1/len(x)) * np.sum(np.square(y - np.dot(x, weight))/2)\n",
    "    return sum\n",
    "print(\"The Empirical risk: {}\".format(empirical_risk(new_x, y, weight)))\n",
    "\n",
    "def gradient_descent(x, y, learning_rate = 0.0001, iterations = 100):\n",
    "    weight = np.zeros(2)\n",
    "    min_weight = 0\n",
    "    min_risk = sys.maxsize\n",
    "\n",
    "    for j in range(iterations):\n",
    "        for i in range(len(x)):         \n",
    "            randx = x[i]\n",
    "            randy = y[i]\n",
    "            weight += (learning_rate) * np.dot(np.array(randy - np.dot(weight, randx)), randx)\n",
    "            risk = empirical_risk(x, y, weight)\n",
    "            if risk < min_risk:\n",
    "                min_risk = risk\n",
    "                min_weight = weight\n",
    "    return min_weight\n",
    "\n",
    "print(\"The best weight using gradient descent: {}\".format(gradient_descent(new_x, y)))\n",
    "plt.scatter(x,y)\n",
    "plt.plot(x, predict(new_x, weight),color='red')\n",
    "plt.plot(x, predict(new_x, gradient_descent(new_x, y)),color='green')\n",
    "print(\"The weight vector is: {}\".format(weight))"
   ]
  },
  {
   "cell_type": "code",
   "execution_count": null,
   "metadata": {},
   "outputs": [],
   "source": []
  },
  {
   "cell_type": "code",
   "execution_count": null,
   "metadata": {},
   "outputs": [],
   "source": []
  }
 ],
 "metadata": {
  "kernelspec": {
   "display_name": "Python 3",
   "language": "python",
   "name": "python3"
  },
  "language_info": {
   "codemirror_mode": {
    "name": "ipython",
    "version": 3
   },
   "file_extension": ".py",
   "mimetype": "text/x-python",
   "name": "python",
   "nbconvert_exporter": "python",
   "pygments_lexer": "ipython3",
   "version": "3.6.4"
  }
 },
 "nbformat": 4,
 "nbformat_minor": 2
}
