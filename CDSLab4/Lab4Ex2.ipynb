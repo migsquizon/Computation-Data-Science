{
 "cells": [
  {
   "cell_type": "code",
   "execution_count": 3,
   "metadata": {},
   "outputs": [
    {
     "name": "stdout",
     "output_type": "stream",
     "text": [
      "Without feature selection 0.680675966005441\n",
      "With feature selection 1.990541146941077\n"
     ]
    },
    {
     "name": "stderr",
     "output_type": "stream",
     "text": [
      "/anaconda3/lib/python3.6/site-packages/sklearn/feature_selection/univariate_selection.py:114: RuntimeWarning: divide by zero encountered in true_divide\n",
      "  f = msb / msw\n"
     ]
    }
   ],
   "source": [
    "import pandas as pd\n",
    "from sklearn.model_selection import train_test_split\n",
    "from sklearn.feature_extraction.text import TfidfVectorizer\n",
    "from sklearn.linear_model import LinearRegression\n",
    "from sklearn.metrics import mean_squared_error\n",
    "from sklearn.feature_selection import SelectKBest\n",
    "\n",
    "dataframe = pd.read_csv(\"./chicago_hotel_reviews.csv\")\n",
    "xTrain, xTest, yTrain, yTest = train_test_split(dataframe['review'], dataframe['rating'], test_size = 0.2, random_state = 0)\n",
    "\n",
    "vect = TfidfVectorizer()\n",
    "# Fit xTrain --fit to train\n",
    "x_train_tfidf = vect.fit_transform(xTrain)\n",
    "# Fit xTrain test --transform is to classify\n",
    "x_test_tfidf = vect.transform(xTest)\n",
    "# Linear regression line for both Actual and Test\n",
    "regTrain = LinearRegression().fit(x_train_tfidf, yTrain)\n",
    "#use the train classify to predict the value of the test data\n",
    "predicted = regTrain.predict(x_test_tfidf)\n",
    "# Using mean_squared_error\n",
    "print('Without feature selection', mean_squared_error(yTest, predicted))\n",
    "\n",
    "fs = SelectKBest(k = 8)\n",
    "X_train_reduced = fs.fit_transform(x_train_tfidf, yTrain)\n",
    "fs_reg = LinearRegression().fit(X_train_reduced, yTrain)\n",
    "fs_reg.score(X_train_reduced, yTrain)\n",
    "\n",
    "X_test_reduced = fs.transform(x_test_tfidf)\n",
    "fs_predicted = fs_reg.predict(X_test_reduced)\n",
    "print('With feature selection', mean_squared_error(yTest, fs_predicted))"
   ]
  },
  {
   "cell_type": "code",
   "execution_count": null,
   "metadata": {},
   "outputs": [],
   "source": []
  }
 ],
 "metadata": {
  "kernelspec": {
   "display_name": "Python 3",
   "language": "python",
   "name": "python3"
  },
  "language_info": {
   "codemirror_mode": {
    "name": "ipython",
    "version": 3
   },
   "file_extension": ".py",
   "mimetype": "text/x-python",
   "name": "python",
   "nbconvert_exporter": "python",
   "pygments_lexer": "ipython3",
   "version": "3.6.4"
  }
 },
 "nbformat": 4,
 "nbformat_minor": 2
}
