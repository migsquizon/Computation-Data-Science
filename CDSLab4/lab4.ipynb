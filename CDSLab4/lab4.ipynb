{
 "cells": [
  {
   "cell_type": "code",
   "execution_count": 2,
   "metadata": {},
   "outputs": [
    {
     "name": "stdout",
     "output_type": "stream",
     "text": [
      "Weight vector for normal regression is:\n",
      "[7.99102098 1.32243102]\n",
      "[0.02897445 1.48003118]\n"
     ]
    },
    {
     "data": {
      "image/png": "[encoded data removed]",
      "text/plain": [
       "<matplotlib.figure.Figure at 0x117f21c88>"
      ]
     },
     "metadata": {},
     "output_type": "display_data"
    }
   ],
   "source": [
    "import pandas as pd\n",
    "import numpy as np\n",
    "from numpy.linalg import inv\n",
    "import matplotlib.pyplot as plt\n",
    "\n",
    "\n",
    "df1 = pd.read_csv(\"./data.csv\", names=[\"x\",\"y\"])\n",
    "\n",
    "x_ar = np.array(df1['x'])\n",
    "y_arr = np.array(df1['y'])\n",
    "temp = np.ones(shape=x_ar.shape)\n",
    "x_arr = np.concatenate((temp.reshape(-1,1), x_ar.reshape(-1,1)), 1)\n",
    "#print(x_arr)\n",
    "\n",
    "coeffs = inv(x_arr.transpose().dot(x_arr)).dot(x_arr.transpose()).dot(y_arr)\n",
    "print(\"Weight vector for normal regression is:\")\n",
    "print(coeffs)\n",
    "\n",
    "y_pred = []\n",
    "for i in x_ar:\n",
    "    y_pred.append(coeffs[1]*i + coeffs[0])\n",
    "\n",
    "y_pred = np.array(y_pred)\n",
    "\n",
    "lr = 0.0001\n",
    "\n",
    "threshold=0.0001\n",
    "#print(x_arr)\n",
    "#print(y_arr.reshape(-1,1))\n",
    "\n",
    "def loss(theta,x):\n",
    "    loss = 1/(2*len(x_arr))* np.sum((y_arr -np.sum(theta*x,axis=1))**2)\n",
    "    return loss\n",
    "\n",
    "def grad_descent():\n",
    "    theta = np.array([0,0])\n",
    "    min_risk = []\n",
    "    theta_list = []\n",
    "    for i in range(len(x_arr)):\n",
    "        theta = theta + lr*(y_arr.reshape(-1,1)[i] - np.dot(theta,x_arr[i]))*x_arr[i]\n",
    "        theta_list.append(theta)\n",
    "        min_risk.append(loss(theta,x_arr))     \n",
    "    \n",
    "    return theta_list[min_risk.index(min(min_risk))]\n",
    "\n",
    "coeffs2 = grad_descent()\n",
    "print(coeffs2)\n",
    "\n",
    "y_pred2 = []\n",
    "for i in x_ar:\n",
    "    y_pred2.append(coeffs2[1]*i + coeffs2[0])\n",
    "\n",
    "plt.plot(x_ar, y_pred, \"-r\", label=\"y = \" + str(round(coeffs[1],3)) + \"x + \" + str(round(coeffs[0],3)))\n",
    "plt.plot(x_ar, y_pred2, \"-b\", label=\"y = \" + str(round(coeffs2[1],3)) + \"x + \" + str(round(coeffs2[0],3)))\n",
    "plt.scatter(x_ar,y_arr)\n",
    "plt.legend()\n",
    "plt.show()"
   ]
  },
  {
   "cell_type": "code",
   "execution_count": null,
   "metadata": {},
   "outputs": [],
   "source": []
  },
  {
   "cell_type": "code",
   "execution_count": null,
   "metadata": {},
   "outputs": [],
   "source": []
  }
 ],
 "metadata": {
  "kernelspec": {
   "display_name": "Python 3",
   "language": "python",
   "name": "python3"
  },
  "language_info": {
   "codemirror_mode": {
    "name": "ipython",
    "version": 3
   },
   "file_extension": ".py",
   "mimetype": "text/x-python",
   "name": "python",
   "nbconvert_exporter": "python",
   "pygments_lexer": "ipython3",
   "version": "3.6.4"
  }
 },
 "nbformat": 4,
 "nbformat_minor": 2
}
