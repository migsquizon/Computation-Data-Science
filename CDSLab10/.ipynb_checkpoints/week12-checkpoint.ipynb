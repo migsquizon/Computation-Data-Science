{
 "cells": [
  {
   "cell_type": "code",
   "execution_count": 9,
   "metadata": {},
   "outputs": [],
   "source": [
    "import os\n",
    "import numpy as np\n",
    "import keras\n",
    "from keras.datasets import reuters, imdb\n",
    "from keras.models import Sequential\n",
    "# from keras.layers import LSTM, SimpleRNN, GRU, Dense, Dropout, Activation, Embedding\n",
    "from keras.preprocessing.text import Tokenizer\n",
    "from keras.preprocessing import sequence\n",
    "from sklearn.model_selection import train_test_split\n",
    "import pandas as pd\n",
    "\n",
    "from keras.layers import LSTM, SimpleRNN, GRU, Dense, Dropout, Activation, Embedding, Conv1D, MaxPooling1D, GlobalAveragePooling1D\n"
   ]
  },
  {
   "cell_type": "code",
   "execution_count": 6,
   "metadata": {},
   "outputs": [
    {
     "name": "stdout",
     "output_type": "stream",
     "text": [
      "128000 train sequences\n",
      "32000 test sequences\n",
      "Found 400000 word vectors.\n"
     ]
    }
   ],
   "source": [
    "\n",
    "\n",
    "\n",
    "EMBEDDING_DIM = 50\n",
    "# load in training/test set\n",
    "data = pd.read_csv('/Users/anthonymunoz/ISTDTerm6/CDS/Computation Data Science/CDSLab9/tweets.160k.random.csv', encoding='utf-8')\n",
    "data.head()\n",
    "\n",
    "data['label'].value_counts()\n",
    "\n",
    "vocab_size = 20000\n",
    "tokenizer = Tokenizer(num_words= vocab_size)\n",
    "tokenizer.fit_on_texts(data['text'])\n",
    "sequences = tokenizer.texts_to_sequences(data['text'])\n",
    "word_index = tokenizer.word_index\n",
    "tweets = sequence.pad_sequences(sequences, padding='post', maxlen=50)\n",
    "\n",
    "\n",
    "labels = data['label']\n",
    "labels = labels.replace(4,1) # replace label '4' with '1' to facilitate one-hot encoding\n",
    "x_train, x_test, y_train, y_test = train_test_split(tweets, labels, test_size=0.2)\n",
    "\n",
    "print(len(x_train), 'train sequences')\n",
    "print(len(x_test), 'test sequences')\n",
    "\n",
    "y_train = keras.utils.to_categorical(y_train) # 2 classes\n",
    "y_test = keras.utils.to_categorical(y_test)\n",
    "\n",
    "embeddings_index = {}\n",
    "GLOVE_DIR = \"/Users/anthonymunoz/ISTDTerm6/CDS/Computation Data Science/CDSLab9\"\n",
    "f = open(os.path.join(GLOVE_DIR, 'glove.6B.50d.txt'))\n",
    "for line in f:\n",
    "    values = line.split()\n",
    "    word = values[0]\n",
    "    coefs = np.asarray(values[1:], dtype='float32')\n",
    "    embeddings_index[word] = coefs\n",
    "f.close()\n",
    "\n",
    "print('Found %s word vectors.' % len(embeddings_index))\n",
    "\n",
    "embedding_matrix = np.zeros((len(word_index) + 1, EMBEDDING_DIM))\n",
    "for word, i in word_index.items():\n",
    "    embedding_vector = embeddings_index.get(word)\n",
    "    if embedding_vector is not None:\n",
    "        # words not found in embedding index will be all-zeros.\n",
    "        embedding_matrix[i] = embedding_vector\n",
    "\n",
    "\n",
    "\n"
   ]
  },
  {
   "cell_type": "code",
   "execution_count": 7,
   "metadata": {},
   "outputs": [
    {
     "data": {
      "text/plain": [
       "(128000, 50)"
      ]
     },
     "execution_count": 7,
     "metadata": {},
     "output_type": "execute_result"
    }
   ],
   "source": [
    "x_train.shape"
   ]
  },
  {
   "cell_type": "code",
   "execution_count": 30,
   "metadata": {},
   "outputs": [
    {
     "name": "stdout",
     "output_type": "stream",
     "text": [
      "Train on 102400 samples, validate on 25600 samples\n",
      "Epoch 1/3\n",
      "102400/102400 [==============================] - 168s 2ms/step - loss: 0.5702 - accuracy: 0.6985 - val_loss: 0.5282 - val_accuracy: 0.7402\n",
      "Epoch 2/3\n",
      "102400/102400 [==============================] - 165s 2ms/step - loss: 0.5023 - accuracy: 0.7551 - val_loss: 0.5021 - val_accuracy: 0.7588\n",
      "Epoch 3/3\n",
      "102400/102400 [==============================] - 185s 2ms/step - loss: 0.4752 - accuracy: 0.7733 - val_loss: 0.4946 - val_accuracy: 0.7584\n",
      "32000/32000 [==============================] - 18s 559us/step\n",
      "Test score: 0.48997454178333283\n",
      "Test accuracy: 0.7594062685966492\n"
     ]
    }
   ],
   "source": [
    "model = Sequential()\n",
    "model = Sequential()\n",
    "model.add(Embedding(len(word_index)+1, EMBEDDING_DIM, weights=[embedding_matrix], trainable=False))\n",
    "model.add(Conv1D(100, 2, activation='relu'))\n",
    "model.add(Conv1D(100, 3, activation='relu'))\n",
    "model.add(MaxPooling1D(3))\n",
    "model.add(Conv1D(160, 4, activation='relu'))\n",
    "model.add(Conv1D(160, 5, activation='relu'))\n",
    "# model.add(GlobalAveragePooling1D())\n",
    "model.add(Dropout(0.5))\n",
    "model.add(LSTM(256,input_shape=(x_train.shape[0],x_train.shape[1])))\n",
    "model.add(Dense(2))\n",
    "model.add(Activation('softmax'))\n",
    "\n",
    "model.compile(loss='categorical_crossentropy', optimizer='adam', metrics=['accuracy'])\n",
    "\n",
    "history = model.fit(x_train, y_train, batch_size=128, epochs=3, verbose=1, validation_split=0.2)\n",
    "\n",
    "score = model.evaluate(x_test, y_test, batch_size=128, verbose=1)\n",
    "print('Test score:', score[0])\n",
    "print('Test accuracy:', score[1])"
   ]
  },
  {
   "cell_type": "code",
   "execution_count": 33,
   "metadata": {},
   "outputs": [
    {
     "ename": "AttributeError",
     "evalue": "'numpy.ndarray' object has no attribute 'lower'",
     "output_type": "error",
     "traceback": [
      "\u001b[0;31m---------------------------------------------------------------------------\u001b[0m",
      "\u001b[0;31mAttributeError\u001b[0m                            Traceback (most recent call last)",
      "\u001b[0;32m<ipython-input-33-cfe1b7b44766>\u001b[0m in \u001b[0;36m<module>\u001b[0;34m()\u001b[0m\n\u001b[1;32m      1\u001b[0m \u001b[0;31m# Tokenizer\u001b[0m\u001b[0;34m\u001b[0m\u001b[0;34m\u001b[0m\u001b[0m\n\u001b[1;32m      2\u001b[0m \u001b[0mtk\u001b[0m \u001b[0;34m=\u001b[0m \u001b[0mTokenizer\u001b[0m\u001b[0;34m(\u001b[0m\u001b[0mnum_words\u001b[0m\u001b[0;34m=\u001b[0m\u001b[0;32mNone\u001b[0m\u001b[0;34m,\u001b[0m \u001b[0mchar_level\u001b[0m\u001b[0;34m=\u001b[0m\u001b[0;32mTrue\u001b[0m\u001b[0;34m,\u001b[0m \u001b[0moov_token\u001b[0m\u001b[0;34m=\u001b[0m\u001b[0;34m'UNK'\u001b[0m\u001b[0;34m)\u001b[0m\u001b[0;34m\u001b[0m\u001b[0m\n\u001b[0;32m----> 3\u001b[0;31m \u001b[0mtk\u001b[0m\u001b[0;34m.\u001b[0m\u001b[0mfit_on_texts\u001b[0m\u001b[0;34m(\u001b[0m\u001b[0mx_train\u001b[0m\u001b[0;34m)\u001b[0m\u001b[0;34m\u001b[0m\u001b[0m\n\u001b[0m",
      "\u001b[0;32m/anaconda3/lib/python3.6/site-packages/keras_preprocessing/text.py\u001b[0m in \u001b[0;36mfit_on_texts\u001b[0;34m(self, texts)\u001b[0m\n\u001b[1;32m    215\u001b[0m                         \u001b[0mtext\u001b[0m \u001b[0;34m=\u001b[0m \u001b[0;34m[\u001b[0m\u001b[0mtext_elem\u001b[0m\u001b[0;34m.\u001b[0m\u001b[0mlower\u001b[0m\u001b[0;34m(\u001b[0m\u001b[0;34m)\u001b[0m \u001b[0;32mfor\u001b[0m \u001b[0mtext_elem\u001b[0m \u001b[0;32min\u001b[0m \u001b[0mtext\u001b[0m\u001b[0;34m]\u001b[0m\u001b[0;34m\u001b[0m\u001b[0m\n\u001b[1;32m    216\u001b[0m                     \u001b[0;32melse\u001b[0m\u001b[0;34m:\u001b[0m\u001b[0;34m\u001b[0m\u001b[0m\n\u001b[0;32m--> 217\u001b[0;31m                         \u001b[0mtext\u001b[0m \u001b[0;34m=\u001b[0m \u001b[0mtext\u001b[0m\u001b[0;34m.\u001b[0m\u001b[0mlower\u001b[0m\u001b[0;34m(\u001b[0m\u001b[0;34m)\u001b[0m\u001b[0;34m\u001b[0m\u001b[0m\n\u001b[0m\u001b[1;32m    218\u001b[0m                 \u001b[0mseq\u001b[0m \u001b[0;34m=\u001b[0m \u001b[0mtext\u001b[0m\u001b[0;34m\u001b[0m\u001b[0m\n\u001b[1;32m    219\u001b[0m             \u001b[0;32melse\u001b[0m\u001b[0;34m:\u001b[0m\u001b[0;34m\u001b[0m\u001b[0m\n",
      "\u001b[0;31mAttributeError\u001b[0m: 'numpy.ndarray' object has no attribute 'lower'"
     ]
    }
   ],
   "source": [
    "# Tokenizer\n",
    "\n",
    "EMBEDDING_DIM = 50\n",
    "# load in training/test set\n",
    "data = pd.read_csv('/Users/anthonymunoz/ISTDTerm6/CDS/Computation Data Science/CDSLab9/tweets.160k.random.csv', encoding='utf-8')\n",
    "data.head()\n",
    "\n",
    "data['label'].value_counts()\n",
    "\n",
    "vocab_size = 20000\n",
    "tokenizer = Tokenizer(num_words= vocab_size,char_level=True,oov_token='UNK')\n",
    "tokenizer.fit_on_texts(data['text'])\n",
    "\n",
    "alphabet = \"abcdefghijklmnopqrstuvwxyz0123456789,;.!?:'\\\"/\\\\|_@#$%^&*~`+-=<>()[]{}\"\n",
    "char_dict = {}\n",
    "for i, char in enumerate(alphabet):\n",
    "    char_dict[char] = i + 1\n",
    "    \n",
    "tokenizer.word_index = char_dict.copy()\n",
    "tokenizer.word_index[tk.oov_token] = max(char_dict.values()) + 1\n",
    "\n",
    "sequences = tokenizer.texts_to_sequences(data['text'])\n",
    "word_index = tokenizer.word_index\n",
    "tweets = sequence.pad_sequences(sequences, padding='post', maxlen=50)\n",
    "\n",
    "\n",
    "labels = data['label']\n",
    "labels = labels.replace(4,1) # replace label '4' with '1' to facilitate one-hot encoding\n",
    "x_train, x_test, y_train, y_test = train_test_split(tweets, labels, test_size=0.2)\n",
    "\n",
    "print(len(x_train), 'train sequences')\n",
    "print(len(x_test), 'test sequences')\n",
    "\n",
    "y_train = keras.utils.to_categorical(y_train) # 2 classes\n",
    "y_test = keras.utils.to_categorical(y_test)\n",
    "\n",
    "embeddings_index = {}\n",
    "GLOVE_DIR = \"/Users/anthonymunoz/ISTDTerm6/CDS/Computation Data Science/CDSLab9\"\n",
    "f = open(os.path.join(GLOVE_DIR, 'glove.6B.50d.txt'))\n",
    "for line in f:\n",
    "    values = line.split()\n",
    "    word = values[0]\n",
    "    coefs = np.asarray(values[1:], dtype='float32')\n",
    "    embeddings_index[word] = coefs\n",
    "f.close()\n",
    "\n",
    "print('Found %s word vectors.' % len(embeddings_index))"
   ]
  },
  {
   "cell_type": "code",
   "execution_count": 35,
   "metadata": {},
   "outputs": [
    {
     "data": {
      "text/plain": [
       "array([ 3416,   714,    40,    31,     7, 15721,    32,    86,    57,\n",
       "          71,   456,     4,   257,  1146,   301,   158,  1550,   148,\n",
       "         285,   134,     2,  2047,     0,     0,     0,     0,     0,\n",
       "           0,     0,     0,     0,     0,     0,     0,     0,     0,\n",
       "           0,     0,     0,     0,     0,     0,     0,     0,     0,\n",
       "           0,     0,     0,     0,     0], dtype=int32)"
      ]
     },
     "execution_count": 35,
     "metadata": {},
     "output_type": "execute_result"
    }
   ],
   "source": []
  },
  {
   "cell_type": "code",
   "execution_count": null,
   "metadata": {},
   "outputs": [],
   "source": []
  }
 ],
 "metadata": {
  "kernelspec": {
   "display_name": "Python 3",
   "language": "python",
   "name": "python3"
  },
  "language_info": {
   "codemirror_mode": {
    "name": "ipython",
    "version": 3
   },
   "file_extension": ".py",
   "mimetype": "text/x-python",
   "name": "python",
   "nbconvert_exporter": "python",
   "pygments_lexer": "ipython3",
   "version": "3.6.4"
  }
 },
 "nbformat": 4,
 "nbformat_minor": 2
}
